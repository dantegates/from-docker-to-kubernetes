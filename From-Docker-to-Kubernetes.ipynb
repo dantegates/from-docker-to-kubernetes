{
 "cells": [
  {
   "cell_type": "markdown",
   "metadata": {},
   "source": [
    "# From Docker to Kubernetes with Helm"
   ]
  },
  {
   "cell_type": "markdown",
   "metadata": {},
   "source": [
    "Docker has been a huge win for deploying software across the board and in particular for deploying machine learning models from my own experience. Perhaps you've already adopted this practice but wonder how to take your container and deploy it at scale. This post seeks to address that question exactly: How to take the next step from Dockerizing your application to deploying it with Kubernetes."
   ]
  },
  {
   "cell_type": "markdown",
   "metadata": {},
   "source": [
    "## Who this post is for"
   ]
  },
  {
   "cell_type": "markdown",
   "metadata": {},
   "source": [
    "While my specific experience is deploying models in this way, this post is general enough to cover what you need to know for any developer to make the transition. That being said this post is geared towards *developers* not maintainers of a Kubernetes cluster. Here we'll cover the basics that a developer needs to know to get started such as\n",
    "\n",
    "- How to create your fist helm chart that utilizes an existing Docker repository.\n",
    "- How to test the chart on your local workstation.\n",
    "- Gotchas you may encounter following the Helm tutorial and some troubleshooting tips.\n",
    "\n",
    "In particular we'll show how to build a container around a simple [flask](flask.pocoo.org) app and write a Helm chart that enables us to run the app on Kubernetes.\n",
    "\n",
    "Things we won't cover:\n",
    "\n",
    "- The ins and outs of all that Helm is and what it can do\n",
    "- How to stand up a real (not local) kubernetes cluster"
   ]
  },
  {
   "cell_type": "markdown",
   "metadata": {},
   "source": [
    "# Why Kubernetes?"
   ]
  },
  {
   "cell_type": "markdown",
   "metadata": {},
   "source": [
    "If you are reading this post you likely already know the answer to this question. However we'll give a brief answer here anyway. Kubernetes is an application originally developed within Google (that has since been open sourced) for deploying containers at scale. Kubernetes has huge support from both the software community and every major cloud provider and therefore going to kubernetes as a solution for deploying containers is an obvious choice."
   ]
  },
  {
   "cell_type": "markdown",
   "metadata": {},
   "source": [
    "# Why Helm?"
   ]
  },
  {
   "cell_type": "markdown",
   "metadata": {},
   "source": [
    "Helm was introduced to standardize how Kubernetes applications are \"packaged.\" The anology that the project uses is that Helm is to `yum` or `apt-get` as Helm charts (the data about your project that the `helm` executable consumes) are analogous to `rpm` or `deb` files.\n",
    "\n",
    "For the developer who wants to quickly get started with Kubernetes Helm is a great solution. There are many moving pieces and configurations to a Kubernetes app and Helm provides a great way of encapsulating and version controlling all of these details. In this way it is a bit like `docker-compose`, i.e. a single place where you can define your configurations and coordinate services."
   ]
  },
  {
   "cell_type": "markdown",
   "metadata": {},
   "source": [
    "# Taking the step\n",
    "\n",
    "Now we'll discuss how to take your Docker container and getting it running on Kubernetes with Helm.\n",
    "\n",
    "To get started you'll need to download [minikube](https://github.com/kubernetes/minikube) (which lets you run a local kubernetes cluster) and [helm](https://github.com/kubernetes/helm). Note that when initializing `helm` you may need to specify the service account as default with `helm init --upgrade --service-account default`. If you simply use `helm init --upgrade` and run into issues later (such as bouncing back and forth between the errors \"Error: no available release name found\" and \"Error: could not find a ready tiller pod\") run this command\n",
    "\n",
    "```shell\n",
    "kubectl delete deployment tiller-deploy --namespace kube-system\n",
    "```\n",
    "\n",
    "and then initialize `helm` using service account default as described above.\n",
    "\n",
    "We're now ready to follow the [official helm quickstart tutorial](https://docs.bitnami.com/kubernetes/how-to/create-your-first-helm-chart/). As we go along I'll point out a few gotchas.\n",
    "\n",
    "Before getting started we'll need minikube up and running, fire it up with\n",
    "\n",
    "```shell\n",
    "minikube start\n",
    "```"
   ]
  },
  {
   "cell_type": "markdown",
   "metadata": {},
   "source": [
    "## Creating the Helm chart"
   ]
  },
  {
   "cell_type": "markdown",
   "metadata": {},
   "source": [
    "`helm create` is the simplest way to create a Helm chart for beginners. It is also recommended as a best practice by the Helm developers as it guarantees you'll be starting your project off with the correct chart structure. Let's use the same chart name from the tutorial\n",
    "\n",
    "```shell\n",
    "helm create mychart\n",
    "```\n",
    "\n",
    "You should now have a `mychart` directory. This directory is the Helm chart for your project. Installing the chart is simple, on the command line run\n",
    "\n",
    "```shell\n",
    "helm install --name example ./mychart --set service.type=NodePort\n",
    "```\n",
    "\n",
    "Our project is now installed to our `minikube` cluster. To verify that is working, in your terminal run\n",
    "\n",
    "```shell\n",
    "minikube service example\n",
    "```\n",
    "\n",
    "The \"Welcome to nginx!\" page should have opened in your browser.\n",
    "\n",
    "We didn't do much, but let's summarize what just happened.\n",
    "\n",
    "1. We fired up a local kubernetes cluster.\n",
    "2. We used the built in `helm create` tool to give us a basic Helm chart template. This default template simply runs an `nginx` server.\n",
    "3. We installed the Helm chart to the cluster with `helm install`. The service type was set to `NodePort` to expose the service outside of the cluster. The tutorial contains for details on this.\n",
    "4. We verified that we could interact with the service."
   ]
  },
  {
   "cell_type": "markdown",
   "metadata": {},
   "source": [
    "# Customizing the Helm chart"
   ]
  },
  {
   "cell_type": "markdown",
   "metadata": {},
   "source": [
    "Now let's customize the chart around a simple flask app.\n",
    "\n",
    "If you'd like to follow along with the commands here, clone my GitHub repository (link at bottom of page).\n",
    "\n",
    "First we'll create a new chart as before\n",
    "\n",
    "```shell\n",
    "helm create from-docker-to-kubernetes-chart\n",
    "```\n",
    "\n",
    "Now we'll build the container (the container needs to exist on our local machine before isntalling the helm chart. You can pull images from Dockerhub or a private registry, but for this example we'll keep it simple)\n",
    "\n",
    "```shell\n",
    "docker build -t from-docker-to-kubernetes:stable .\n",
    "```\n",
    "\n",
    "Now container isn't anything special. It's simply a flask app that runs on port 5000 inside the container and returns a randomly generated number every time you visit the root (`/`) endpoint.\n",
    "\n",
    "To get the chart functioning properly we need to make 3 changes only\n",
    "\n",
    "1. Specify our custom docker image.\n",
    "2. Specify which port inside the container kubernetes should listen to.\n",
    "\n",
    "To make the first change we edit the lines in `from-docker-to-kubernetes-chart/values.yml` from\n",
    "\n",
    "```yml\n",
    "image:\n",
    "  repository: nginx\n",
    "  tag: stable\n",
    "```\n",
    "\n",
    "to\n",
    "\n",
    "```yml\n",
    "image:\n",
    "  repository: from-docker-to-kubernetes\n",
    "  tag: stable\n",
    "```\n",
    "\n",
    "To make the second two changes we add the lines to `values.yml`\n",
    "\n",
    "```yml\n",
    "container:\n",
    "  # changed from 80\n",
    "  port: 5000\n",
    "```\n",
    "\n",
    "Now we can install our app with\n",
    "\n",
    "```shell\n",
    "helm install --name from-docker-to-kubernetes ./from-docker-to-kubernetes-chart --set service.type=NodePort\n",
    "```"
   ]
  },
  {
   "cell_type": "markdown",
   "metadata": {},
   "source": [
    "## Gotcha: liveness and readiness probes"
   ]
  },
  {
   "cell_type": "markdown",
   "metadata": {},
   "source": [
    "In this case we have properly installed our flask app. However we overlooked a key element that tripped me up when I was writing my first helm chart.\n",
    "\n",
    "In `templates/deployments.yml` \"liveness\" and \"readiness\" probes are defined. These are descriptions of how to ping the service to know if it is \"alive.\" By default the example in `helm create` simply makes an HTTP GET request to the '/'. If it returns 200 the checks are considered successful. If not, the service will continually be restarted until the check passes.\n",
    "\n",
    "I was able to figure this out buy reading [this blog post](https://kukulinski.com/10-most-common-reasons-kubernetes-deployments-fail-part-1/) which has greate trouble shooting advice for working with kubernetes."
   ]
  },
  {
   "cell_type": "code",
   "execution_count": null,
   "metadata": {},
   "outputs": [],
   "source": []
  }
 ],
 "metadata": {
  "kernelspec": {
   "display_name": "Python 2",
   "language": "python",
   "name": "python2"
  },
  "language_info": {
   "codemirror_mode": {
    "name": "ipython",
    "version": 2
   },
   "file_extension": ".py",
   "mimetype": "text/x-python",
   "name": "python",
   "nbconvert_exporter": "python",
   "pygments_lexer": "ipython2",
   "version": "2.7.10"
  }
 },
 "nbformat": 4,
 "nbformat_minor": 2
}
