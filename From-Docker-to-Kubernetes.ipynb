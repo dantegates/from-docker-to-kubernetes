{
 "cells": [
  {
   "cell_type": "markdown",
   "metadata": {},
   "source": [
    "# From Docker to Kubernetes with Helm"
   ]
  },
  {
   "cell_type": "markdown",
   "metadata": {},
   "source": [
    "Docker has been a huge win for deploying software across the board and in particular for deploying machine learning models from my own experience. Perhaps you've already adopted this practice but wonder how to take the next step and deploy your image at scale via Kubernetes. If so this post is for you."
   ]
  },
  {
   "cell_type": "markdown",
   "metadata": {},
   "source": [
    "## What this post covers"
   ]
  },
  {
   "cell_type": "markdown",
   "metadata": {},
   "source": [
    "In this post we'll build a container around a simple [flask](flask.pocoo.org) app and write a Helm chart that enables us to run the app on Kubernetes. If you've followed the [bitnami tutorial](https://docs.bitnami.com/kubernetes/how-to/create-your-first-helm-chart/) this post is a concrete example with a bit more detail of [step 3.](https://docs.bitnami.com/kubernetes/how-to/create-your-first-helm-chart/#step-3-modify-chart-to-deploy-a-custom-service) in the tutorial.\n",
    "\n",
    "Things this post will not cover are:\n",
    "\n",
    "- The ins and outs of all that Helm is and what it can do\n",
    "- How to stand up a real (not local) kubernetes cluster"
   ]
  },
  {
   "cell_type": "markdown",
   "metadata": {},
   "source": [
    "# Why Helm?"
   ]
  },
  {
   "cell_type": "markdown",
   "metadata": {},
   "source": [
    "Helm was introduced to standardize how Kubernetes applications are \"packaged.\" The anology that the project uses is that Helm is to `yum` or `apt-get` as Helm charts (the data about your project that the `helm` executable consumes) are analogous to `rpm` or `deb` files.\n",
    "\n",
    "For the developer who wants to quickly get started with Kubernetes Helm is a great solution. There are many moving pieces and configurations to a Kubernetes app and Helm provides a great way of encapsulating and version controlling all of these details. In this way it is a bit like `docker-compose`, i.e. a single place where you can define your configurations and coordinate services."
   ]
  },
  {
   "cell_type": "markdown",
   "metadata": {},
   "source": [
    "# Prerequisites\n",
    "\n",
    "If you want to follow along with the code in this post\n",
    "\n",
    "1. Install [minikube](https://github.com/kubernetes/minikube) (an app that lets your run a local kubernetes cluster) and start it up with `minikube start`.\n",
    "2. Install [helm](https://github.com/kubernetes/helm) and initialize it on your minikube cluster. I recommend uising `helm init --upgrade --service-account default`.\n",
    "3. Clone this [GitHub repository](https://github.com/dantegates/from-docker-to-kubernetes). This repo contains the flask app, Dockerfile and Helm chart that we'll be using.\n",
    "4. If at any point you experience errors and can't follow along, skip to the Troubleshooting  section at the bottom of this page for a link to an excellent blog post on diagnosing errors when deploying to kubernetes."
   ]
  },
  {
   "cell_type": "markdown",
   "metadata": {},
   "source": [
    "# To Kubernetes!"
   ]
  },
  {
   "cell_type": "markdown",
   "metadata": {},
   "source": [
    "## The Docker image\n",
    "\n",
    "First we'll build the Docker image (the container needs to exist on our local machine before installing the helm chart. You can pull images from DockerHub or a private registry, but for this example we'll keep it simple and build it locally).\n",
    "\n",
    "```shell\n",
    "docker build -t from-docker-to-kubernetes:stable .\n",
    "```\n",
    "\n",
    "Now this container isn't anything special. It's simply a flask app that runs on port 5000 inside the container and returns a randomly generated number every time you visit the root (`/`) endpoint. When we customize the Helm chart we'll see that it's important that this image has a meaningful tag (i.e., not latest)."
   ]
  },
  {
   "cell_type": "markdown",
   "metadata": {},
   "source": [
    "## Writing the Helm chart\n",
    "\n",
    "`helm create` is the simplest way to create a Helm chart for beginners. It is also recommended as a best practice by the Helm developers as it guarantees you'll be starting your project off with the correct chart structure.\n",
    "\n",
    "```shell\n",
    "helm create app-chart\n",
    "```\n",
    "\n",
    "If you just ran this command you should now have a directory called `app-chart`. This directory is the Helm chart for your project. The chart is also functional out of the box (though not very interesting yet), it chart describes a simple `nginx` server and can be installed to the cluster with\n",
    "\n",
    "```shell\n",
    "helm install --name example ./app-chart --set service.type=NodePort\n",
    "```\n",
    "\n",
    "You can verify that the installation is working by running the following command in your terminal\n",
    "\n",
    "```shell\n",
    "minikube service example\n",
    "```\n",
    "\n",
    "The \"Welcome to nginx!\" page should have opened in your browser.\n",
    "\n",
    "\n",
    "To recap, in only 4 lines of code we\n",
    "\n",
    "1. We fired up a local kubernetes cluster.\n",
    "2. We used the built in `helm create` tool to give us a basic Helm chart template.\n",
    "3. We installed the nginx Helm chart to the cluster with `helm install`. The service type was set to `NodePort` to expose the service outside of the cluster. The bitnami tutorial contains for details on this.\n",
    "4. We verified that we could interact with the service.\n",
    "\n",
    "So far, this was pretty easy."
   ]
  },
  {
   "cell_type": "markdown",
   "metadata": {},
   "source": [
    "## Customizing the chart to your project"
   ]
  },
  {
   "cell_type": "markdown",
   "metadata": {},
   "source": [
    "So how do we customize this default chart to run our flask app. It turns out there are only 2 things we need to add to a single file to complete the chart.\n",
    "\n",
    "1. Specify our custom docker image.\n",
    "2. Specify which port inside the container kubernetes should listen to.\n",
    "\n",
    "To make the first change we edit the lines in `app-chart/values.yml` from\n",
    "\n",
    "```yml\n",
    "image:\n",
    "  repository: nginx\n",
    "  tag: stable\n",
    "```\n",
    "\n",
    "to\n",
    "\n",
    "```yml\n",
    "image:\n",
    "  repository: from-docker-to-kubernetes\n",
    "  tag: stable\n",
    "```\n",
    "\n",
    "To make the second two changes we add the lines to `values.yml`\n",
    "\n",
    "```yml\n",
    "container:\n",
    "  # changed from 80\n",
    "  port: 5000\n",
    "```\n",
    "\n",
    "Now we can install our app with\n",
    "\n",
    "```shell\n",
    "helm install --name from-docker-to-kubernetes ./from-docker-to-kubernetes-chart --set service.type=NodePort\n",
    "```"
   ]
  },
  {
   "cell_type": "markdown",
   "metadata": {},
   "source": [
    "The following `git diff` shows all changes made to the default chart created with `helm create`."
   ]
  },
  {
   "cell_type": "code",
   "execution_count": 1,
   "metadata": {},
   "outputs": [
    {
     "name": "stdout",
     "output_type": "stream",
     "text": [
      "\u001b[1mdiff --git a/app-chart/values.yaml b/app-chart/values.yaml\u001b[m\r\n",
      "\u001b[1mindex 6d0f0c7..b8cff2a 100644\u001b[m\r\n",
      "\u001b[1m--- a/app-chart/values.yaml\u001b[m\r\n",
      "\u001b[1m+++ b/app-chart/values.yaml\u001b[m\r\n",
      "\u001b[36m@@ -5,13 +5,17 @@\u001b[m\r\n",
      " replicaCount: 1\u001b[m\r\n",
      " \u001b[m\r\n",
      " image:\u001b[m\r\n",
      "\u001b[31m-  repository: nginx\u001b[m\r\n",
      "\u001b[32m+\u001b[m\u001b[32m  repository: from-docker-to-kubernetes\u001b[m\r\n",
      "   tag: stable\u001b[m\r\n",
      "   pullPolicy: IfNotPresent\u001b[m\r\n",
      " \u001b[m\r\n",
      " service:\u001b[m\r\n",
      "   type: ClusterIP\u001b[m\r\n",
      "\u001b[31m-  port: 80\u001b[m\r\n",
      "\u001b[32m+\u001b[m\u001b[32m  port: 5000\u001b[m\r\n",
      "\u001b[32m+\u001b[m\r\n",
      "\u001b[32m+\u001b[m\u001b[32mcontainer:\u001b[m\r\n",
      "\u001b[32m+\u001b[m\u001b[32m  port: 5000\u001b[m\r\n",
      "\u001b[32m+\u001b[m\u001b[32m  aliveEndpoint: /alive\u001b[m\r\n",
      " \u001b[m\r\n",
      " ingress:\u001b[m\r\n",
      "   enabled: false\u001b[m\r\n"
     ]
    }
   ],
   "source": [
    "!git diff app-chart"
   ]
  },
  {
   "cell_type": "markdown",
   "metadata": {},
   "source": [
    "And that's it! We can now install and run this Helm chart using the same commands as above and see our app working in the browser."
   ]
  },
  {
   "cell_type": "markdown",
   "metadata": {},
   "source": [
    "## Troubleshooting"
   ]
  },
  {
   "cell_type": "markdown",
   "metadata": {},
   "source": [
    "In this case we have properly installed our flask app. However we overlooked a key element that tripped me up when I was writing my first helm chart.\n",
    "\n",
    "In `templates/deployments.yml` \"liveness\" and \"readiness\" probes are defined. These are descriptions of how to ping the service to know if it is \"alive.\" By default the example in `helm create` simply makes an HTTP GET request to the root route - '/'. If it returns 200 the checks are considered successful. If not, the service will continually be restarted until the check passes. It happened to be that the image I used when first trying out `helm` doesn't define a root endpoint which caused both probes to fail.\n",
    "\n",
    "Fortunately I was able to figure out the issue by reading [this excellent blog post](https://kukulinski.com/10-most-common-reasons-kubernetes-deployments-fail-part-1/) which has greate trouble shooting advice for working with kubernetes."
   ]
  }
 ],
 "metadata": {
  "kernelspec": {
   "display_name": "Python 2",
   "language": "python",
   "name": "python2"
  },
  "language_info": {
   "codemirror_mode": {
    "name": "ipython",
    "version": 2
   },
   "file_extension": ".py",
   "mimetype": "text/x-python",
   "name": "python",
   "nbconvert_exporter": "python",
   "pygments_lexer": "ipython2",
   "version": "2.7.10"
  }
 },
 "nbformat": 4,
 "nbformat_minor": 2
}
